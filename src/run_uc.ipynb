{
 "cells": [
  {
   "cell_type": "code",
   "execution_count": 1,
   "metadata": {},
   "outputs": [],
   "source": [
    "import andes\n",
    "import ams"
   ]
  },
  {
   "cell_type": "code",
   "execution_count": 2,
   "metadata": {},
   "outputs": [
    {
     "data": {
      "text/plain": [
       "'1.9.2'"
      ]
     },
     "execution_count": 2,
     "metadata": {},
     "output_type": "execute_result"
    }
   ],
   "source": [
    "andes.__version__"
   ]
  },
  {
   "cell_type": "code",
   "execution_count": 3,
   "metadata": {},
   "outputs": [
    {
     "data": {
      "text/plain": [
       "'0.9.10'"
      ]
     },
     "execution_count": 3,
     "metadata": {},
     "output_type": "execute_result"
    }
   ],
   "source": [
    "ams.__version__"
   ]
  },
  {
   "cell_type": "code",
   "execution_count": 4,
   "metadata": {},
   "outputs": [],
   "source": [
    "ams.config_logger(stream_level=20)"
   ]
  },
  {
   "cell_type": "code",
   "execution_count": 5,
   "metadata": {},
   "outputs": [
    {
     "name": "stderr",
     "output_type": "stream",
     "text": [
      "Parsing input file \"/Users/jinningwang/work/miniconda3/envs/vis/lib/python3.11/site-packages/ams/cases/ieee39/ieee39_uced.xlsx\"...\n",
      "Input file parsed in 0.0763 seconds.\n",
      "System set up in 0.0014 seconds.\n"
     ]
    }
   ],
   "source": [
    "sp = ams.load(ams.get_case('ieee39/ieee39_uced.xlsx'),\n",
    "              setup=True,\n",
    "              no_output=True,\n",
    "              default_config=True)"
   ]
  },
  {
   "cell_type": "code",
   "execution_count": 6,
   "metadata": {},
   "outputs": [
    {
     "name": "stderr",
     "output_type": "stream",
     "text": [
      "All generators are online at initial, make initial guess for commitment.\n",
      "Turn off StaticGen ['PV_37' 'PV_34'] as initial commitment guess.\n",
      "<UC> initialized in 0.0159 seconds.\n"
     ]
    },
    {
     "data": {
      "text/plain": [
       "True"
      ]
     },
     "execution_count": 6,
     "metadata": {},
     "output_type": "execute_result"
    }
   ],
   "source": [
    "sp.UC.init()"
   ]
  },
  {
   "cell_type": "code",
   "execution_count": 7,
   "metadata": {},
   "outputs": [
    {
     "name": "stdout",
     "output_type": "stream",
     "text": [
      "Set parameter Username\n",
      "Academic license - for non-commercial use only - expires 2025-09-25\n"
     ]
    },
    {
     "name": "stderr",
     "output_type": "stream",
     "text": [
      "<UC> solved as optimal in 0.1159 seconds, converged in 11 iterations with GUROBI.\n"
     ]
    },
    {
     "data": {
      "text/plain": [
       "True"
      ]
     },
     "execution_count": 7,
     "metadata": {},
     "output_type": "execute_result"
    }
   ],
   "source": [
    "sp.UC.run(solver='GUROBI')"
   ]
  },
  {
   "cell_type": "code",
   "execution_count": 8,
   "metadata": {},
   "outputs": [
    {
     "data": {
      "text/plain": [
       "array([[3.7735845 , 3.7324006 , 3.6676829 , 3.6206155 , 3.65003263,\n",
       "        3.65003262, 3.9147869 , 4.19719142, 4.28544283, 4.3913445 ,\n",
       "        4.56784737, 4.75611626, 4.8505    , 4.8505    , 4.85049967,\n",
       "        4.8505    , 4.8505    , 4.8505    , 4.8505    , 4.8505    ,\n",
       "        4.8505    , 4.85049985, 4.84435148, 4.33839367],\n",
       "       [3.76505439, 3.7239527 , 3.65936418, 3.61239072, 3.64174913,\n",
       "        3.64174912, 3.90597495, 4.18781579, 4.27589105, 4.38158134,\n",
       "        4.5577319 , 4.74562501, 4.83982036, 4.83982036, 4.83982003,\n",
       "        4.83982036, 4.83982036, 4.83982036, 4.83982036, 4.83982036,\n",
       "        4.83982036, 4.83982021, 4.83368411, 4.3287362 ],\n",
       "       [3.75655827, 3.71553845, 3.65107859, 3.60419871, 3.63349864,\n",
       "        3.63349863, 3.89719811, 4.17847751, 4.26637732, 4.37185707,\n",
       "        4.54765674, 4.73517556, 4.82918326, 4.82918327, 4.82918294,\n",
       "        4.82918327, 4.82918327, 4.82918327, 4.82918327, 4.82918327,\n",
       "        4.82918327, 4.82918312, 4.82305924, 4.3191172 ],\n",
       "       [3.74809593, 3.70715765, 3.64282595, 3.59603926, 3.62528094,\n",
       "        3.62528094, 3.88845616, 4.16917636, 4.25690142, 4.36217147,\n",
       "        4.53762164, 4.72476765, 4.81858847, 4.81858847, 4.81858814,\n",
       "        4.81858847, 4.81858847, 4.81858847, 4.81858847, 4.81858847,\n",
       "        4.81858847, 4.81858832, 4.81247662, 4.30953645],\n",
       "       [3.73546531, 3.69464876, 3.63050833, 3.58386075, 3.61301549,\n",
       "        3.61301548, 3.87540823, 4.15529378, 4.24275801, 4.34771506,\n",
       "        4.52264357, 4.70923316, 4.80277502, 4.80277502, 4.80277469,\n",
       "        4.80277502, 4.80277502, 4.80277502, 4.80277502, 4.80277502,\n",
       "        4.80277502, 4.80277488, 4.79668134, 4.29523654],\n",
       "       [0.        , 0.        , 0.        , 0.        , 0.        ,\n",
       "        0.        , 0.        , 0.        , 0.        , 0.        ,\n",
       "        0.        , 0.        , 0.        , 0.        , 0.        ,\n",
       "        0.        , 0.        , 0.        , 0.        , 0.        ,\n",
       "        0.        , 0.        , 0.        , 0.        ],\n",
       "       [3.74387736, 3.70297974, 3.63871192, 3.5919717 , 3.62118434,\n",
       "        3.62118433, 3.88409821, 4.16453965, 4.25217758, 4.3573431 ,\n",
       "        4.53261903, 4.71957921, 4.81330685, 4.81330685, 4.81330652,\n",
       "        4.81330685, 4.81330685, 4.81330685, 4.81330685, 4.81330685,\n",
       "        4.81330685, 4.8133067 , 4.80720107, 4.30476035],\n",
       "       [3.73966716, 3.69881012, 3.63460606, 3.5879122 , 3.61709586,\n",
       "        3.61709585, 3.87974891, 4.15991213, 4.24746312, 4.3525243 ,\n",
       "        4.52762636, 4.71440105, 4.80803571, 4.80803571, 4.80803538,\n",
       "        4.80803571, 4.80803571, 4.80803571, 4.80803571, 4.80803571,\n",
       "        4.80803571, 4.80803557, 4.80193599, 4.29999372],\n",
       "       [0.        , 0.        , 0.        , 0.        , 0.        ,\n",
       "        0.        , 0.        , 0.        , 0.        , 0.        ,\n",
       "        0.        , 0.        , 0.        , 0.        , 0.        ,\n",
       "        0.        , 0.        , 0.        , 0.        , 0.        ,\n",
       "        0.        , 0.        , 0.        , 0.        ],\n",
       "       [3.76931519, 3.72817243, 3.66351938, 3.616499  , 3.64588674,\n",
       "        3.64588673, 3.91037652, 4.19249892, 4.28066217, 4.38645804,\n",
       "        4.56278458, 4.75086539, 4.84515484, 4.84515485, 4.84515451,\n",
       "        4.84515485, 4.84515485, 4.84515485, 4.84515485, 4.84515485,\n",
       "        4.84515485, 4.8451547 , 4.83901246, 4.33356011]])"
      ]
     },
     "execution_count": 8,
     "metadata": {},
     "output_type": "execute_result"
    }
   ],
   "source": [
    "sp.UC.pg.v"
   ]
  }
 ],
 "metadata": {
  "kernelspec": {
   "display_name": "vis",
   "language": "python",
   "name": "python3"
  },
  "language_info": {
   "codemirror_mode": {
    "name": "ipython",
    "version": 3
   },
   "file_extension": ".py",
   "mimetype": "text/x-python",
   "name": "python",
   "nbconvert_exporter": "python",
   "pygments_lexer": "ipython3",
   "version": "3.11.10"
  }
 },
 "nbformat": 4,
 "nbformat_minor": 2
}
