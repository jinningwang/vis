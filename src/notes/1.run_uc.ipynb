{
 "cells": [
  {
   "cell_type": "markdown",
   "metadata": {},
   "source": [
    "# Run UC with AMS"
   ]
  },
  {
   "cell_type": "code",
   "execution_count": 1,
   "metadata": {},
   "outputs": [],
   "source": [
    "import andes\n",
    "import ams"
   ]
  },
  {
   "cell_type": "code",
   "execution_count": 2,
   "metadata": {},
   "outputs": [
    {
     "data": {
      "text/plain": [
       "'1.9.2'"
      ]
     },
     "execution_count": 2,
     "metadata": {},
     "output_type": "execute_result"
    }
   ],
   "source": [
    "andes.__version__"
   ]
  },
  {
   "cell_type": "code",
   "execution_count": 3,
   "metadata": {},
   "outputs": [
    {
     "data": {
      "text/plain": [
       "'0.9.10'"
      ]
     },
     "execution_count": 3,
     "metadata": {},
     "output_type": "execute_result"
    }
   ],
   "source": [
    "ams.__version__"
   ]
  },
  {
   "cell_type": "code",
   "execution_count": 4,
   "metadata": {},
   "outputs": [],
   "source": [
    "ams.config_logger(stream_level=20)"
   ]
  },
  {
   "cell_type": "code",
   "execution_count": 5,
   "metadata": {},
   "outputs": [
    {
     "name": "stderr",
     "output_type": "stream",
     "text": [
      "Parsing input file \"../cases/ieee39_uced.xlsx\"...\n",
      "Input file parsed in 0.0690 seconds.\n",
      "System set up in 0.0012 seconds.\n"
     ]
    }
   ],
   "source": [
    "sp = ams.load('../cases/ieee39_uced.xlsx',\n",
    "              setup=True,\n",
    "              no_output=True,\n",
    "              default_config=True)"
   ]
  },
  {
   "cell_type": "code",
   "execution_count": 6,
   "metadata": {},
   "outputs": [
    {
     "name": "stderr",
     "output_type": "stream",
     "text": [
      "All generators are online at initial, make initial guess for commitment.\n",
      "Turn off StaticGen ['PV_37' 'PV_34'] as initial commitment guess.\n",
      "<UC> initialized in 0.0152 seconds.\n"
     ]
    },
    {
     "data": {
      "text/plain": [
       "True"
      ]
     },
     "execution_count": 6,
     "metadata": {},
     "output_type": "execute_result"
    }
   ],
   "source": [
    "sp.UC.init()"
   ]
  },
  {
   "cell_type": "code",
   "execution_count": 7,
   "metadata": {},
   "outputs": [
    {
     "name": "stdout",
     "output_type": "stream",
     "text": [
      "Set parameter Username\n",
      "Academic license - for non-commercial use only - expires 2025-09-25\n"
     ]
    },
    {
     "name": "stderr",
     "output_type": "stream",
     "text": [
      "<UC> solved as optimal in 0.0959 seconds, converged in 11 iterations with GUROBI.\n"
     ]
    },
    {
     "data": {
      "text/plain": [
       "True"
      ]
     },
     "execution_count": 7,
     "metadata": {},
     "output_type": "execute_result"
    }
   ],
   "source": [
    "sp.UC.run(solver='GUROBI')"
   ]
  },
  {
   "cell_type": "markdown",
   "metadata": {},
   "source": [
    "After sovling it, we can inspect the UC results"
   ]
  },
  {
   "cell_type": "code",
   "execution_count": 8,
   "metadata": {},
   "outputs": [
    {
     "data": {
      "text/plain": [
       "(10, 24)"
      ]
     },
     "execution_count": 8,
     "metadata": {},
     "output_type": "execute_result"
    }
   ],
   "source": [
    "sp.UC.pg.v.shape"
   ]
  },
  {
   "cell_type": "markdown",
   "metadata": {},
   "source": [
    "There are ten units and 24 time periods.\n",
    "\n",
    "The time periods data are stored in the model `UCTSlot`"
   ]
  },
  {
   "cell_type": "code",
   "execution_count": 10,
   "metadata": {},
   "outputs": [
    {
     "data": {
      "text/html": [
       "<div>\n",
       "<style scoped>\n",
       "    .dataframe tbody tr th:only-of-type {\n",
       "        vertical-align: middle;\n",
       "    }\n",
       "\n",
       "    .dataframe tbody tr th {\n",
       "        vertical-align: top;\n",
       "    }\n",
       "\n",
       "    .dataframe thead th {\n",
       "        text-align: right;\n",
       "    }\n",
       "</style>\n",
       "<table border=\"1\" class=\"dataframe\">\n",
       "  <thead>\n",
       "    <tr style=\"text-align: right;\">\n",
       "      <th></th>\n",
       "      <th>idx</th>\n",
       "      <th>u</th>\n",
       "      <th>name</th>\n",
       "      <th>sd</th>\n",
       "    </tr>\n",
       "    <tr>\n",
       "      <th>uid</th>\n",
       "      <th></th>\n",
       "      <th></th>\n",
       "      <th></th>\n",
       "      <th></th>\n",
       "    </tr>\n",
       "  </thead>\n",
       "  <tbody>\n",
       "    <tr>\n",
       "      <th>0</th>\n",
       "      <td>UCT_1</td>\n",
       "      <td>1.0</td>\n",
       "      <td>UCT 1</td>\n",
       "      <td>0.641,0.0</td>\n",
       "    </tr>\n",
       "    <tr>\n",
       "      <th>1</th>\n",
       "      <td>UCT_2</td>\n",
       "      <td>1.0</td>\n",
       "      <td>UCT 2</td>\n",
       "      <td>0.634,0.0</td>\n",
       "    </tr>\n",
       "    <tr>\n",
       "      <th>2</th>\n",
       "      <td>UCT_3</td>\n",
       "      <td>1.0</td>\n",
       "      <td>UCT 3</td>\n",
       "      <td>0.623,0.0</td>\n",
       "    </tr>\n",
       "    <tr>\n",
       "      <th>3</th>\n",
       "      <td>UCT_4</td>\n",
       "      <td>1.0</td>\n",
       "      <td>UCT 4</td>\n",
       "      <td>0.615,0.0</td>\n",
       "    </tr>\n",
       "    <tr>\n",
       "      <th>4</th>\n",
       "      <td>UCT_5</td>\n",
       "      <td>1.0</td>\n",
       "      <td>UCT 5</td>\n",
       "      <td>0.62,0.0</td>\n",
       "    </tr>\n",
       "    <tr>\n",
       "      <th>5</th>\n",
       "      <td>UCT_6</td>\n",
       "      <td>1.0</td>\n",
       "      <td>UCT 6</td>\n",
       "      <td>0.62,0.0</td>\n",
       "    </tr>\n",
       "    <tr>\n",
       "      <th>6</th>\n",
       "      <td>UCT_7</td>\n",
       "      <td>1.0</td>\n",
       "      <td>UCT 7</td>\n",
       "      <td>0.665,0.0</td>\n",
       "    </tr>\n",
       "    <tr>\n",
       "      <th>7</th>\n",
       "      <td>UCT_8</td>\n",
       "      <td>1.0</td>\n",
       "      <td>UCT 8</td>\n",
       "      <td>0.713,0.0</td>\n",
       "    </tr>\n",
       "    <tr>\n",
       "      <th>8</th>\n",
       "      <td>UCT_9</td>\n",
       "      <td>1.0</td>\n",
       "      <td>UCT 9</td>\n",
       "      <td>0.728,0.0</td>\n",
       "    </tr>\n",
       "    <tr>\n",
       "      <th>9</th>\n",
       "      <td>UCT_10</td>\n",
       "      <td>1.0</td>\n",
       "      <td>UCT 10</td>\n",
       "      <td>0.746,0.0</td>\n",
       "    </tr>\n",
       "    <tr>\n",
       "      <th>10</th>\n",
       "      <td>UCT_11</td>\n",
       "      <td>1.0</td>\n",
       "      <td>UCT 11</td>\n",
       "      <td>0.776,0.0</td>\n",
       "    </tr>\n",
       "    <tr>\n",
       "      <th>11</th>\n",
       "      <td>UCT_12</td>\n",
       "      <td>1.0</td>\n",
       "      <td>UCT 12</td>\n",
       "      <td>0.808,0.0</td>\n",
       "    </tr>\n",
       "    <tr>\n",
       "      <th>12</th>\n",
       "      <td>UCT_13</td>\n",
       "      <td>1.0</td>\n",
       "      <td>UCT 13</td>\n",
       "      <td>0.835,0.0</td>\n",
       "    </tr>\n",
       "    <tr>\n",
       "      <th>13</th>\n",
       "      <td>UCT_14</td>\n",
       "      <td>1.0</td>\n",
       "      <td>UCT 14</td>\n",
       "      <td>0.86,0.0</td>\n",
       "    </tr>\n",
       "    <tr>\n",
       "      <th>14</th>\n",
       "      <td>UCT_15</td>\n",
       "      <td>1.0</td>\n",
       "      <td>UCT 15</td>\n",
       "      <td>0.879,0.0</td>\n",
       "    </tr>\n",
       "    <tr>\n",
       "      <th>15</th>\n",
       "      <td>UCT_16</td>\n",
       "      <td>1.0</td>\n",
       "      <td>UCT 16</td>\n",
       "      <td>0.922,0.0</td>\n",
       "    </tr>\n",
       "    <tr>\n",
       "      <th>16</th>\n",
       "      <td>UCT_17</td>\n",
       "      <td>1.0</td>\n",
       "      <td>UCT 17</td>\n",
       "      <td>0.954,0.0</td>\n",
       "    </tr>\n",
       "    <tr>\n",
       "      <th>17</th>\n",
       "      <td>UCT_18</td>\n",
       "      <td>1.0</td>\n",
       "      <td>UCT 18</td>\n",
       "      <td>0.996,0.0</td>\n",
       "    </tr>\n",
       "    <tr>\n",
       "      <th>18</th>\n",
       "      <td>UCT_19</td>\n",
       "      <td>1.0</td>\n",
       "      <td>UCT 19</td>\n",
       "      <td>1.0,0.0</td>\n",
       "    </tr>\n",
       "    <tr>\n",
       "      <th>19</th>\n",
       "      <td>UCT_20</td>\n",
       "      <td>1.0</td>\n",
       "      <td>UCT 20</td>\n",
       "      <td>0.986,0.0</td>\n",
       "    </tr>\n",
       "    <tr>\n",
       "      <th>20</th>\n",
       "      <td>UCT_21</td>\n",
       "      <td>1.0</td>\n",
       "      <td>UCT 21</td>\n",
       "      <td>0.949,0.0</td>\n",
       "    </tr>\n",
       "    <tr>\n",
       "      <th>21</th>\n",
       "      <td>UCT_22</td>\n",
       "      <td>1.0</td>\n",
       "      <td>UCT 22</td>\n",
       "      <td>0.901,0.0</td>\n",
       "    </tr>\n",
       "    <tr>\n",
       "      <th>22</th>\n",
       "      <td>UCT_23</td>\n",
       "      <td>1.0</td>\n",
       "      <td>UCT 23</td>\n",
       "      <td>0.823,0.0</td>\n",
       "    </tr>\n",
       "    <tr>\n",
       "      <th>23</th>\n",
       "      <td>UCT_24</td>\n",
       "      <td>1.0</td>\n",
       "      <td>UCT 24</td>\n",
       "      <td>0.737,0.0</td>\n",
       "    </tr>\n",
       "  </tbody>\n",
       "</table>\n",
       "</div>"
      ],
      "text/plain": [
       "        idx    u    name         sd\n",
       "uid                                \n",
       "0     UCT_1  1.0   UCT 1  0.641,0.0\n",
       "1     UCT_2  1.0   UCT 2  0.634,0.0\n",
       "2     UCT_3  1.0   UCT 3  0.623,0.0\n",
       "3     UCT_4  1.0   UCT 4  0.615,0.0\n",
       "4     UCT_5  1.0   UCT 5   0.62,0.0\n",
       "5     UCT_6  1.0   UCT 6   0.62,0.0\n",
       "6     UCT_7  1.0   UCT 7  0.665,0.0\n",
       "7     UCT_8  1.0   UCT 8  0.713,0.0\n",
       "8     UCT_9  1.0   UCT 9  0.728,0.0\n",
       "9    UCT_10  1.0  UCT 10  0.746,0.0\n",
       "10   UCT_11  1.0  UCT 11  0.776,0.0\n",
       "11   UCT_12  1.0  UCT 12  0.808,0.0\n",
       "12   UCT_13  1.0  UCT 13  0.835,0.0\n",
       "13   UCT_14  1.0  UCT 14   0.86,0.0\n",
       "14   UCT_15  1.0  UCT 15  0.879,0.0\n",
       "15   UCT_16  1.0  UCT 16  0.922,0.0\n",
       "16   UCT_17  1.0  UCT 17  0.954,0.0\n",
       "17   UCT_18  1.0  UCT 18  0.996,0.0\n",
       "18   UCT_19  1.0  UCT 19    1.0,0.0\n",
       "19   UCT_20  1.0  UCT 20  0.986,0.0\n",
       "20   UCT_21  1.0  UCT 21  0.949,0.0\n",
       "21   UCT_22  1.0  UCT 22  0.901,0.0\n",
       "22   UCT_23  1.0  UCT 23  0.823,0.0\n",
       "23   UCT_24  1.0  UCT 24  0.737,0.0"
      ]
     },
     "execution_count": 10,
     "metadata": {},
     "output_type": "execute_result"
    }
   ],
   "source": [
    "sp.UCTSlot.as_df()"
   ]
  },
  {
   "cell_type": "markdown",
   "metadata": {},
   "source": [
    "This is the results of first time period."
   ]
  },
  {
   "cell_type": "code",
   "execution_count": 11,
   "metadata": {},
   "outputs": [
    {
     "data": {
      "text/plain": [
       "array([3.7735845 , 3.76505439, 3.75655827, 3.74809593, 3.73546531,\n",
       "       0.        , 3.74387736, 3.73966716, 0.        , 3.76931519])"
      ]
     },
     "execution_count": 11,
     "metadata": {},
     "output_type": "execute_result"
    }
   ],
   "source": [
    "sp.UC.pg.v[:, 0]"
   ]
  }
 ],
 "metadata": {
  "kernelspec": {
   "display_name": "vis",
   "language": "python",
   "name": "python3"
  },
  "language_info": {
   "codemirror_mode": {
    "name": "ipython",
    "version": 3
   },
   "file_extension": ".py",
   "mimetype": "text/x-python",
   "name": "python",
   "nbconvert_exporter": "python",
   "pygments_lexer": "ipython3",
   "version": "3.11.10"
  }
 },
 "nbformat": 4,
 "nbformat_minor": 2
}
